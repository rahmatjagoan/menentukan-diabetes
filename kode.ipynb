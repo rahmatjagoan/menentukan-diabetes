{
  "nbformat": 4,
  "nbformat_minor": 0,
  "metadata": {
    "colab": {
      "provenance": []
    },
    "kernelspec": {
      "name": "python3",
      "display_name": "Python 3"
    },
    "language_info": {
      "name": "python"
    }
  },
  "cells": [
    {
      "cell_type": "code",
      "execution_count": 17,
      "metadata": {
        "colab": {
          "base_uri": "https://localhost:8080/"
        },
        "id": "7b7sWC6YyhzX",
        "outputId": "65f507df-6a3d-4ff9-ec51-73d1095de5ad"
      },
      "outputs": [
        {
          "output_type": "stream",
          "name": "stdout",
          "text": [
            "Jumlah kehamilan: 1\n",
            "Kadar glukosa darah: 85\n",
            "Tekanan darah: 66\n",
            "Ketebalan lipatan kulit: 29\n",
            "Kadar insulin: 0\n",
            "Indeks massa tubuh (BMI): 26.6\n",
            "Riwayat diabetes dalam keluarga (pedigree): 0.351\n",
            "Usia: 31\n",
            "Pasien tidak menderita diabetes.\n"
          ]
        },
        {
          "output_type": "stream",
          "name": "stderr",
          "text": [
            "/usr/local/lib/python3.10/dist-packages/sklearn/base.py:439: UserWarning: X does not have valid feature names, but DecisionTreeClassifier was fitted with feature names\n",
            "  warnings.warn(\n"
          ]
        }
      ],
      "source": [
        "import pandas as pd\n",
        "from sklearn.tree import DecisionTreeClassifier\n",
        "\n",
        "def predict_diabetes(pregnant, glucose, bp, skin, insulin, bmi, pedigree, age):\n",
        "    # Membaca dataset\n",
        "    feature_cols = ['pregnant', 'glucose', 'bp', 'skin', 'insulin', 'bmi', 'pedigree', 'age', 'label']\n",
        "    dataset = pd.read_csv('/content/pima-indians-diabetes.data.csv', names=feature_cols)\n",
        "\n",
        "    # Memisahkan fitur (X) dan label (Y)\n",
        "    X = dataset.drop('label', axis=1)\n",
        "    Y = dataset.label\n",
        "\n",
        "    # Melatih model Decision Tree pada seluruh dataset\n",
        "    dt = DecisionTreeClassifier()\n",
        "    dt.fit(X, Y)\n",
        "\n",
        "    # Membuat array fitur dari input yang diberikan\n",
        "    input_features = [[pregnant, glucose, bp, skin, insulin, bmi, pedigree, age]]\n",
        "\n",
        "    # Melakukan prediksi pada array fitur\n",
        "    prediction = dt.predict(input_features)\n",
        "\n",
        "    # Mengembalikan hasil prediksi\n",
        "    if prediction[0] == 1:\n",
        "        return \"Pasien menderita diabetes.\"\n",
        "    else:\n",
        "        return \"Pasien tidak menderita diabetes.\"\n",
        "\n",
        "# Meminta pengguna memasukkan nilai-nilai fitur\n",
        "pregnant = float(input(\"Jumlah kehamilan: \"))\n",
        "glucose = float(input(\"Kadar glukosa darah: \"))\n",
        "bp = float(input(\"Tekanan darah: \"))\n",
        "skin = float(input(\"Ketebalan lipatan kulit: \"))\n",
        "insulin = float(input(\"Kadar insulin: \"))\n",
        "bmi = float(input(\"Indeks massa tubuh (BMI): \"))\n",
        "pedigree = float(input(\"Riwayat diabetes dalam keluarga (pedigree): \"))\n",
        "age = float(input(\"Usia: \"))\n",
        "\n",
        "# Melakukan prediksi menggunakan fungsi predict_diabetes()\n",
        "result = predict_diabetes(pregnant, glucose, bp, skin, insulin, bmi, pedigree, age)\n",
        "\n",
        "# Mencetak hasil prediksi\n",
        "print(result)"
      ]
    }
  ]
}
